{
 "cells": [
  {
   "cell_type": "markdown",
   "id": "e27bc008-8ed0-4a4d-96d0-66988c75d2e8",
   "metadata": {},
   "source": [
    "# Version information"
   ]
  },
  {
   "cell_type": "code",
   "execution_count": 1,
   "id": "331044cf-21e9-4dda-8a21-cc2b0e60ce5c",
   "metadata": {},
   "outputs": [
    {
     "name": "stdout",
     "output_type": "stream",
     "text": [
      "Running date:  March 19, 2025\n",
      "Pyleecan version: 1.5.2\n",
      "SciDataTool version: 2.5.0\n"
     ]
    }
   ],
   "source": [
    "# RUN THIS FROM 'py39a' CONDA ENVIRONMENT!\n",
    "%matplotlib notebook\n",
    "from PySide2.QtWidgets import *\n",
    "from datetime import date\n",
    "print(\"Running date: \", date.today().strftime(\"%B %d, %Y\"))\n",
    "# Add cloned repo to system path to avoid having to pip-install as well\n",
    "import sys\n",
    "sys.path.append(\"C:/Users/nmb48/Documents/GitHub/pyleecan\")  # Adjust path as needed\n",
    "import pyleecan\n",
    "print(\"Pyleecan version: \" + pyleecan.__version__)\n",
    "import SciDataTool\n",
    "print(\"SciDataTool version: \" + SciDataTool.__version__)"
   ]
  },
  {
   "cell_type": "markdown",
   "id": "ce90044a-93ce-409a-bfd4-254b66905ae0",
   "metadata": {},
   "source": [
    "## Start the GUI"
   ]
  },
  {
   "cell_type": "code",
   "execution_count": 2,
   "id": "eada4f8a-7a4d-4ade-bfba-72a5cb658099",
   "metadata": {},
   "outputs": [],
   "source": [
    "# %run -m pyleecan"
   ]
  },
  {
   "cell_type": "markdown",
   "id": "078eb21f-a474-47ab-bf82-b66f5994786e",
   "metadata": {},
   "source": [
    "## Import the .json file"
   ]
  },
  {
   "cell_type": "code",
   "execution_count": 3,
   "id": "ad02915e-a058-4824-9fe4-b96879de897c",
   "metadata": {},
   "outputs": [],
   "source": [
    "import json\n",
    "\n",
    "with open(\"conventional_propulsive_motor.json\", \"r\") as f:\n",
    "    machine_dict = json.load(f)"
   ]
  },
  {
   "cell_type": "markdown",
   "id": "63d9921d-d019-42b9-9c42-93567bb04801",
   "metadata": {},
   "source": [
    "## Recursively populate the MachineSIPMSM object"
   ]
  },
  {
   "cell_type": "code",
   "execution_count": 4,
   "id": "c8c9a50b-2c9d-4599-b319-d4495c544817",
   "metadata": {},
   "outputs": [
    {
     "name": "stdout",
     "output_type": "stream",
     "text": [
      "LamSlotWind class has no \"R_hex_in\" property\n",
      "LamSlotWind class has no \"a\" property\n",
      "LamSlotWind class has no \"d\" property\n",
      "MachineSIPMSM class has no \"tms\" property\n",
      "MachineSIPMSM class has no \"operation\" property\n"
     ]
    }
   ],
   "source": [
    "%matplotlib inline\n",
    "from pyleecan.Classes.LamSlotWind import LamSlotWind\n",
    "from pyleecan.Classes.SlotW21 import SlotW21\n",
    "from pyleecan.Classes.Winding import Winding\n",
    "from pyleecan.Classes.CondType12 import CondType12\n",
    "from pyleecan.Classes.LamSlotMag import LamSlotMag\n",
    "from pyleecan.Classes.SlotM18 import SlotM18\n",
    "from pyleecan.Classes.Magnet import Magnet\n",
    "from pyleecan.Classes.MachineSIPMSM import MachineSIPMSM\n",
    "\n",
    "# Define a recursive function to assign values from a dictionary to an object\n",
    "def assign_attributes(obj, data):\n",
    "    \"\"\"\n",
    "    Recursively assigns dictionary values to the attributes of an object.\n",
    "    \n",
    "    Parameters:\n",
    "    obj : The class instance to which attributes should be assigned.\n",
    "    data : A dictionary containing the attributes and values.\n",
    "    \"\"\"\n",
    "    for key, value in data.items():\n",
    "        if isinstance(value, dict):  # If value is another dictionary, recurse\n",
    "            sub_obj = getattr(obj, key, None)\n",
    "            if sub_obj is not None:  # If sub-object exists, update it\n",
    "                assign_attributes(sub_obj, value)\n",
    "            else:  # If sub-object does not exist, assign the dictionary directly\n",
    "                try:\n",
    "                    setattr(obj, key, value)\n",
    "                except Exception as e:\n",
    "                    print(str(e))\n",
    "                    \n",
    "        else:\n",
    "            try:\n",
    "                setattr(obj, key, value)  # Assign primitive values\n",
    "            except Exception as e:\n",
    "                print(str(e))\n",
    "\n",
    "# Create main MachineSIPMSM object\n",
    "conventional_propulsive_motor = MachineSIPMSM(\n",
    "    stator=LamSlotWind(\n",
    "        slot=SlotW21(),\n",
    "        winding = Winding(\n",
    "            conductor = CondType12()\n",
    "        ),\n",
    "    ),\n",
    "    rotor=LamSlotMag(\n",
    "        slot = SlotM18(),\n",
    "        magnet = Magnet()\n",
    "    ),\n",
    "    shaft=None,\n",
    "    frame=None\n",
    ")\n",
    "\n",
    "# Recursively assign JSON data\n",
    "assign_attributes(conventional_propulsive_motor, machine_dict)\n",
    "\n",
    "# Print to verify\n",
    "# print(detailed_demonstrator_ch5_populated.stator.Rint)  # Should match JSON value\n",
    "# print(detailed_demonstrator_ch5_populated.stator.slot.Zs)  # Should be 60"
   ]
  },
  {
   "cell_type": "markdown",
   "id": "a3bdc3d2-945a-40f0-b224-9038d6410271",
   "metadata": {},
   "source": [
    "### Save .json file and plot cross-section"
   ]
  },
  {
   "cell_type": "code",
   "execution_count": 5,
   "id": "05edf750-fb0c-4647-9446-717d7bb1ab6b",
   "metadata": {},
   "outputs": [
    {
     "name": "stdout",
     "output_type": "stream",
     "text": [
      "[10:49:51] Saving MachineSIPMSM to file 'conventional_propulsive_motor_populated.json'.\n",
      "Saving MachineSIPMSM to file 'conventional_propulsive_motor_populated.json'.\n"
     ]
    }
   ],
   "source": [
    "conventional_propulsive_motor.save('conventional_propulsive_motor_populated.json')\n",
    "\n",
    "fig, ax = conventional_propulsive_motor.plot(is_show_fig=True)"
   ]
  },
  {
   "cell_type": "markdown",
   "id": "bbaab954-0d54-484d-9abc-fb29bab6d561",
   "metadata": {},
   "source": [
    "### Plot stator"
   ]
  },
  {
   "cell_type": "code",
   "execution_count": 6,
   "id": "3377309f-77de-4b8f-9c4a-9fbb0eee1efd",
   "metadata": {},
   "outputs": [],
   "source": [
    "fig, ax = conventional_propulsive_motor.stator.slot.plot_schematics(is_default=True, is_show_fig=False)\n",
    "fig, ax = conventional_propulsive_motor.stator.slot.plot(is_show_fig=False)"
   ]
  },
  {
   "cell_type": "markdown",
   "id": "d20ec84b-fcdc-4c85-89c7-93958f7198d1",
   "metadata": {},
   "source": [
    "### Plot winding"
   ]
  },
  {
   "cell_type": "code",
   "execution_count": 7,
   "id": "09854bc3-1168-4c9a-8e71-9b213b929637",
   "metadata": {},
   "outputs": [
    {
     "ename": "AttributeError",
     "evalue": "'NoneType' object has no attribute 'text'",
     "output_type": "error",
     "traceback": [
      "\u001b[1;31m---------------------------------------------------------------------------\u001b[0m",
      "\u001b[1;31mAttributeError\u001b[0m                            Traceback (most recent call last)",
      "\u001b[1;32m~\\AppData\\Local\\Temp\\ipykernel_68724\\1994299537.py\u001b[0m in \u001b[0;36m<cell line: 3>\u001b[1;34m()\u001b[0m\n\u001b[0;32m      1\u001b[0m \u001b[0mfig\u001b[0m\u001b[1;33m,\u001b[0m \u001b[0max\u001b[0m \u001b[1;33m=\u001b[0m \u001b[0mconventional_propulsive_motor\u001b[0m\u001b[1;33m.\u001b[0m\u001b[0mstator\u001b[0m\u001b[1;33m.\u001b[0m\u001b[0mplot_winding\u001b[0m\u001b[1;33m(\u001b[0m\u001b[0mis_show_fig\u001b[0m\u001b[1;33m=\u001b[0m\u001b[1;32mFalse\u001b[0m\u001b[1;33m)\u001b[0m   \u001b[1;31m# Show winding pattern smallest sym\u001b[0m\u001b[1;33m\u001b[0m\u001b[1;33m\u001b[0m\u001b[0m\n\u001b[0;32m      2\u001b[0m \u001b[0mfig\u001b[0m\u001b[1;33m,\u001b[0m \u001b[0max\u001b[0m \u001b[1;33m=\u001b[0m \u001b[0mconventional_propulsive_motor\u001b[0m\u001b[1;33m.\u001b[0m\u001b[0mstator\u001b[0m\u001b[1;33m.\u001b[0m\u001b[0mwinding\u001b[0m\u001b[1;33m.\u001b[0m\u001b[0mplot_linear\u001b[0m\u001b[1;33m(\u001b[0m\u001b[0mis_show_fig\u001b[0m\u001b[1;33m=\u001b[0m\u001b[1;32mFalse\u001b[0m\u001b[1;33m)\u001b[0m\u001b[1;33m\u001b[0m\u001b[1;33m\u001b[0m\u001b[0m\n\u001b[1;32m----> 3\u001b[1;33m fig, ax = conventional_propulsive_motor.stator.plot(\n\u001b[0m\u001b[0;32m      4\u001b[0m                 \u001b[0mis_winding_connection\u001b[0m\u001b[1;33m=\u001b[0m\u001b[1;32mTrue\u001b[0m\u001b[1;33m,\u001b[0m\u001b[1;33m\u001b[0m\u001b[1;33m\u001b[0m\u001b[0m\n\u001b[0;32m      5\u001b[0m                 \u001b[0mis_show_fig\u001b[0m\u001b[1;33m=\u001b[0m\u001b[1;32mTrue\u001b[0m\u001b[1;33m,\u001b[0m\u001b[1;33m\u001b[0m\u001b[1;33m\u001b[0m\u001b[0m\n",
      "\u001b[1;32mC:\\Users/nmb48/Documents/GitHub/pyleecan\\pyleecan\\Methods\\Machine\\LamSlotWind\\plot.py\u001b[0m in \u001b[0;36mplot\u001b[1;34m(self, fig, ax, is_lam_only, sym, alpha, delta, is_edge_only, edgecolor, is_add_arrow, is_display, is_add_sign, is_show_fig, save_path, win_title, is_legend, is_clean_plot, is_winding_connection, is_winding_connection_phase_A)\u001b[0m\n\u001b[0;32m    322\u001b[0m                 \u001b[1;31m# ax.text(end_point[0], end_point[1], '-', fontsize=16, ha='center', va='center')\u001b[0m\u001b[1;33m\u001b[0m\u001b[1;33m\u001b[0m\u001b[0m\n\u001b[0;32m    323\u001b[0m \u001b[1;33m\u001b[0m\u001b[0m\n\u001b[1;32m--> 324\u001b[1;33m                 \u001b[0max\u001b[0m\u001b[1;33m.\u001b[0m\u001b[0mtext\u001b[0m\u001b[1;33m(\u001b[0m\u001b[0mstart_point_shifted_cartesian\u001b[0m\u001b[1;33m[\u001b[0m\u001b[1;36m0\u001b[0m\u001b[1;33m]\u001b[0m\u001b[1;33m,\u001b[0m \u001b[0mstart_point_shifted_cartesian\u001b[0m\u001b[1;33m[\u001b[0m\u001b[1;36m1\u001b[0m\u001b[1;33m]\u001b[0m\u001b[1;33m,\u001b[0m \u001b[1;34m'+'\u001b[0m\u001b[1;33m,\u001b[0m \u001b[0mfontsize\u001b[0m\u001b[1;33m=\u001b[0m\u001b[1;36m8\u001b[0m\u001b[1;33m,\u001b[0m \u001b[0mha\u001b[0m\u001b[1;33m=\u001b[0m\u001b[1;34m'center'\u001b[0m\u001b[1;33m,\u001b[0m \u001b[0mva\u001b[0m\u001b[1;33m=\u001b[0m\u001b[1;34m'center'\u001b[0m\u001b[1;33m)\u001b[0m\u001b[1;33m\u001b[0m\u001b[1;33m\u001b[0m\u001b[0m\n\u001b[0m\u001b[0;32m    325\u001b[0m                 \u001b[0max\u001b[0m\u001b[1;33m.\u001b[0m\u001b[0mtext\u001b[0m\u001b[1;33m(\u001b[0m\u001b[0mend_point_shifted_cartesian\u001b[0m\u001b[1;33m[\u001b[0m\u001b[1;36m0\u001b[0m\u001b[1;33m]\u001b[0m\u001b[1;33m,\u001b[0m \u001b[0mend_point_shifted_cartesian\u001b[0m\u001b[1;33m[\u001b[0m\u001b[1;36m1\u001b[0m\u001b[1;33m]\u001b[0m\u001b[1;33m,\u001b[0m \u001b[1;34m'-'\u001b[0m\u001b[1;33m,\u001b[0m \u001b[0mfontsize\u001b[0m\u001b[1;33m=\u001b[0m\u001b[1;36m12\u001b[0m\u001b[1;33m,\u001b[0m \u001b[0mha\u001b[0m\u001b[1;33m=\u001b[0m\u001b[1;34m'center'\u001b[0m\u001b[1;33m,\u001b[0m \u001b[0mva\u001b[0m\u001b[1;33m=\u001b[0m\u001b[1;34m'center'\u001b[0m\u001b[1;33m)\u001b[0m\u001b[1;33m\u001b[0m\u001b[1;33m\u001b[0m\u001b[0m\n\u001b[0;32m    326\u001b[0m \u001b[1;33m\u001b[0m\u001b[0m\n",
      "\u001b[1;31mAttributeError\u001b[0m: 'NoneType' object has no attribute 'text'"
     ]
    }
   ],
   "source": [
    "fig, ax = conventional_propulsive_motor.stator.plot_winding(is_show_fig=False)   # Show winding pattern smallest sym\n",
    "fig, ax = conventional_propulsive_motor.stator.winding.plot_linear(is_show_fig=False)\n",
    "fig, ax = conventional_propulsive_motor.stator.plot(\n",
    "                is_winding_connection=True,\n",
    "                is_show_fig=True,\n",
    "                is_add_sign=True,\n",
    "            )"
   ]
  },
  {
   "cell_type": "markdown",
   "id": "ac7c1a19-9dd9-409a-b50a-aacf9bbb3273",
   "metadata": {},
   "source": [
    "### Plot conductor"
   ]
  },
  {
   "cell_type": "code",
   "execution_count": 8,
   "id": "73a81161-51e0-4934-81fe-70506b433f03",
   "metadata": {},
   "outputs": [],
   "source": [
    "fig, ax = conventional_propulsive_motor.stator.winding.conductor.plot_schematics(is_default=True, is_single=True, is_show_fig=False)\n",
    "fig, ax = conventional_propulsive_motor.stator.winding.conductor.plot_schematics(is_default=True, is_single=False, is_show_fig=False)"
   ]
  },
  {
   "cell_type": "markdown",
   "id": "54dc30ba-98bb-4a0a-909e-373300c2bd39",
   "metadata": {},
   "source": [
    "### Plot magnets"
   ]
  },
  {
   "cell_type": "code",
   "execution_count": 9,
   "id": "282abb2b-17fd-42b7-bdb8-464d2d9d57e5",
   "metadata": {},
   "outputs": [],
   "source": [
    "fig, ax = conventional_propulsive_motor.rotor.slot.plot_schematics(is_default=True, is_show_fig=False)\n",
    "fig, ax = conventional_propulsive_motor.rotor.slot.plot(is_show_fig=False)"
   ]
  },
  {
   "cell_type": "code",
   "execution_count": 10,
   "id": "08bed170-e0dd-4485-8215-e5a719fad016",
   "metadata": {},
   "outputs": [],
   "source": [
    "from os.path import join\n",
    "from pyleecan.Classes.Material import Material\n",
    "from pyleecan.Classes.MatMagnetics import MatMagnetics\n",
    "from pyleecan.Classes.MatHT import MatHT\n",
    "from pyleecan.definitions import DATA_DIR\n",
    "from pyleecan.Functions.load import load\n",
    "\n",
    "# Loading Materials \n",
    "M400_50A = load(join(DATA_DIR, \"Material\", \"M400-50A.json\"))\n",
    "Copper1 = load(join(DATA_DIR, \"Material\", \"Copper1.json\"))\n",
    "Magnet_prius = load(join(\"C:/Users/nmb48/AppData/Roaming/pyleecan/Material/MagnetPrius.json\"))\n",
    "INSULATOR1 = load(join(\"C:/Users/nmb48/AppData/Roaming/pyleecan/Material/INSULATOR1.json\"))\n",
    "\n",
    "# Set Materials\n",
    "conventional_propulsive_motor.stator.mat_type = M400_50A  # Stator Lamination material\n",
    "conventional_propulsive_motor.rotor.mat_type = M400_50A  # Rotor Lamination material\n",
    "conventional_propulsive_motor.rotor.magnet.mat_type = Magnet_prius\n",
    "conventional_propulsive_motor.rotor.magnet.type_magnetization = 0\n",
    "conventional_propulsive_motor.stator.winding.conductor.ins_mat = INSULATOR1\n",
    "conventional_propulsive_motor.stator.winding.conductor.cond_mat = Copper1  # Stator winding conductor material"
   ]
  },
  {
   "cell_type": "code",
   "execution_count": 11,
   "id": "f41e6907-00f3-43b3-96de-ad9c56e0ca83",
   "metadata": {},
   "outputs": [
    {
     "name": "stdout",
     "output_type": "stream",
     "text": [
      "[10:50:01] Saving MachineSIPMSM to file 'conventional_propulsive_motor_populated.json'.\n",
      "Saving MachineSIPMSM to file 'conventional_propulsive_motor_populated.json'.\n"
     ]
    }
   ],
   "source": [
    "from pyleecan.Classes.MachineSIPMSM import MachineSIPMSM\n",
    "\n",
    "conventional_propulsive_motor_populated = MachineSIPMSM(\n",
    "    name=\"Detailed demonstrator design from chapter 5 of Aidan's thesis\",\n",
    "    stator=conventional_propulsive_motor.stator,\n",
    "    rotor=conventional_propulsive_motor.rotor,\n",
    "    shaft=None,\n",
    "    frame=None\n",
    ")\n",
    "conventional_propulsive_motor_populated.save('conventional_propulsive_motor_populated.json')\n",
    "\n",
    "fig, ax = conventional_propulsive_motor_populated.plot(is_show_fig=False)"
   ]
  },
  {
   "cell_type": "markdown",
   "id": "3b5d435c-f15e-4de7-9903-6e5c27bbb0f0",
   "metadata": {},
   "source": [
    "## Manually edit .json file to add Hmag\n",
    "\n",
    "Comparing https://www.pyleecan.org/_modules/pyleecan/Classes/SlotM18.html#SlotM18 and https://github.com/NilsBarner/pyleecan/blob/master/pyleecan/Classes/SlotM18.py, it became clear that Hmag was renamed to H0 at some point but the documentation did no get updated. When loading the .json file of the present machine into the GUI and plotting the machine cross-section, the GUI would only recognise Hmag but not H0 https://www.pyleecan.org/pyleecan.GUI.Dialog.DMachineSetup.SMSlot.PMSlot18.PMSlot18.html?highlight=slotm18, hence I had to manually add this to the json."
   ]
  },
  {
   "cell_type": "code",
   "execution_count": 12,
   "id": "d7c213c9-40d2-4499-adf0-00a382992622",
   "metadata": {},
   "outputs": [],
   "source": [
    "import json\n",
    "\n",
    "# Load the JSON file\n",
    "with open(\"conventional_propulsive_motor_populated.json\", \"r\") as f:\n",
    "    data = json.load(f)\n",
    "\n",
    "data[\"rotor\"][\"slot\"][\"Hmag\"] = conventional_propulsive_motor.rotor.slot.H0\n",
    "\n",
    "# Save the updated JSON\n",
    "with open(\"conventional_propulsive_motor_populated.json\", \"w\") as f:\n",
    "    json.dump(data, f, indent=2)"
   ]
  },
  {
   "cell_type": "markdown",
   "id": "757ed759-34f0-474e-8eae-73c3a489a4b1",
   "metadata": {},
   "source": [
    "Upon comparison between the json file created by this Jupyter Notebook and that created by inserting the same values into the GUI in a tool like diffchecker, I confirm that I successfully scripted the detailed machine demonstrator design from chapter 5 of Aidan's thesis."
   ]
  },
  {
   "cell_type": "code",
   "execution_count": null,
   "id": "5ea9cfc5-b73d-404c-93b1-aa506ef7ba45",
   "metadata": {},
   "outputs": [],
   "source": []
  }
 ],
 "metadata": {
  "kernelspec": {
   "display_name": "Python 3 (ipykernel)",
   "language": "python",
   "name": "python3"
  },
  "language_info": {
   "codemirror_mode": {
    "name": "ipython",
    "version": 3
   },
   "file_extension": ".py",
   "mimetype": "text/x-python",
   "name": "python",
   "nbconvert_exporter": "python",
   "pygments_lexer": "ipython3",
   "version": "3.9.16"
  }
 },
 "nbformat": 4,
 "nbformat_minor": 5
}
